{
 "cells": [
  {
   "cell_type": "markdown",
   "metadata": {},
   "source": [
    "# Predicting Credit Card Fraud\n",
    "\n",
    "\n",
    "## Goal\n",
    "- Produce a predictive model of fraudulent credit card transactions as evaluated by Area Under the Precision-Recall Curve and Average Precision Score.\n",
    "\n",
    "## Data\n",
    "- Taken from here: https://www.kaggle.com/mlg-ulb/creditcardfraud\n",
    "- Other info:\n",
    "    > Content\n",
    "The datasets contains transactions made by credit cards in September 2013 by european cardholders. This dataset presents transactions that occurred in two days, where we have 492 frauds out of 284,807 transactions. The dataset is highly unbalanced, the positive class (frauds) account for 0.172% of all transactions. It contains only numerical input variables which are the result of a PCA transformation. Unfortunately, due to confidentiality issues, we cannot provide the original features and more background information about the data. Features V1, V2, ... V28 are the principal components obtained with PCA, the only features which have not been transformed with PCA are 'Time' and 'Amount'. Feature 'Time' contains the seconds elapsed between each transaction and the first transaction in the dataset. The feature 'Amount' is the transaction Amount, this feature can be used for example-dependant cost-senstive learning. Feature 'Class' is the response variable and it takes value 1 in case of fraud and 0 otherwise.\n",
    "\n",
    "## Process\n",
    "- Explore Data.\n",
    "- Split data into validation/training/test sets.\n",
    "- Select best model based on validation data.\n",
    "- Evaluate model and perform threshold tuning.\n",
    "- Perform Bayesian Optimization for hyperparameter tuning.\n",
    "- Evaluate tuned model and perform threshold tuning."
   ]
  },
  {
   "cell_type": "code",
   "execution_count": 1,
   "metadata": {},
   "outputs": [],
   "source": [
    "import pandas as pd\n",
    "import numpy as np\n",
    "import matplotlib.pyplot as plt\n",
    "import seaborn as sns\n",
    "\n",
    "%matplotlib inline\n",
    "\n",
    "plt.style.use('fivethirtyeight')"
   ]
  },
  {
   "cell_type": "code",
   "execution_count": 2,
   "metadata": {},
   "outputs": [],
   "source": [
    "data = pd.read_csv('./data/creditcard.csv')"
   ]
  },
  {
   "cell_type": "markdown",
   "metadata": {},
   "source": [
    "## Exploring data\n",
    "Let's go through the basics and explore this dataset."
   ]
  },
  {
   "cell_type": "code",
   "execution_count": 3,
   "metadata": {},
   "outputs": [
    {
     "data": {
      "text/html": [
       "<div>\n",
       "<style scoped>\n",
       "    .dataframe tbody tr th:only-of-type {\n",
       "        vertical-align: middle;\n",
       "    }\n",
       "\n",
       "    .dataframe tbody tr th {\n",
       "        vertical-align: top;\n",
       "    }\n",
       "\n",
       "    .dataframe thead th {\n",
       "        text-align: right;\n",
       "    }\n",
       "</style>\n",
       "<table border=\"1\" class=\"dataframe\">\n",
       "  <thead>\n",
       "    <tr style=\"text-align: right;\">\n",
       "      <th></th>\n",
       "      <th>Time</th>\n",
       "      <th>V1</th>\n",
       "      <th>V2</th>\n",
       "      <th>V3</th>\n",
       "      <th>V4</th>\n",
       "      <th>V5</th>\n",
       "      <th>V6</th>\n",
       "      <th>V7</th>\n",
       "      <th>V8</th>\n",
       "      <th>V9</th>\n",
       "      <th>...</th>\n",
       "      <th>V21</th>\n",
       "      <th>V22</th>\n",
       "      <th>V23</th>\n",
       "      <th>V24</th>\n",
       "      <th>V25</th>\n",
       "      <th>V26</th>\n",
       "      <th>V27</th>\n",
       "      <th>V28</th>\n",
       "      <th>Amount</th>\n",
       "      <th>Class</th>\n",
       "    </tr>\n",
       "  </thead>\n",
       "  <tbody>\n",
       "    <tr>\n",
       "      <th>0</th>\n",
       "      <td>0.0</td>\n",
       "      <td>-1.359807</td>\n",
       "      <td>-0.072781</td>\n",
       "      <td>2.536347</td>\n",
       "      <td>1.378155</td>\n",
       "      <td>-0.338321</td>\n",
       "      <td>0.462388</td>\n",
       "      <td>0.239599</td>\n",
       "      <td>0.098698</td>\n",
       "      <td>0.363787</td>\n",
       "      <td>...</td>\n",
       "      <td>-0.018307</td>\n",
       "      <td>0.277838</td>\n",
       "      <td>-0.110474</td>\n",
       "      <td>0.066928</td>\n",
       "      <td>0.128539</td>\n",
       "      <td>-0.189115</td>\n",
       "      <td>0.133558</td>\n",
       "      <td>-0.021053</td>\n",
       "      <td>149.62</td>\n",
       "      <td>0</td>\n",
       "    </tr>\n",
       "    <tr>\n",
       "      <th>1</th>\n",
       "      <td>0.0</td>\n",
       "      <td>1.191857</td>\n",
       "      <td>0.266151</td>\n",
       "      <td>0.166480</td>\n",
       "      <td>0.448154</td>\n",
       "      <td>0.060018</td>\n",
       "      <td>-0.082361</td>\n",
       "      <td>-0.078803</td>\n",
       "      <td>0.085102</td>\n",
       "      <td>-0.255425</td>\n",
       "      <td>...</td>\n",
       "      <td>-0.225775</td>\n",
       "      <td>-0.638672</td>\n",
       "      <td>0.101288</td>\n",
       "      <td>-0.339846</td>\n",
       "      <td>0.167170</td>\n",
       "      <td>0.125895</td>\n",
       "      <td>-0.008983</td>\n",
       "      <td>0.014724</td>\n",
       "      <td>2.69</td>\n",
       "      <td>0</td>\n",
       "    </tr>\n",
       "    <tr>\n",
       "      <th>2</th>\n",
       "      <td>1.0</td>\n",
       "      <td>-1.358354</td>\n",
       "      <td>-1.340163</td>\n",
       "      <td>1.773209</td>\n",
       "      <td>0.379780</td>\n",
       "      <td>-0.503198</td>\n",
       "      <td>1.800499</td>\n",
       "      <td>0.791461</td>\n",
       "      <td>0.247676</td>\n",
       "      <td>-1.514654</td>\n",
       "      <td>...</td>\n",
       "      <td>0.247998</td>\n",
       "      <td>0.771679</td>\n",
       "      <td>0.909412</td>\n",
       "      <td>-0.689281</td>\n",
       "      <td>-0.327642</td>\n",
       "      <td>-0.139097</td>\n",
       "      <td>-0.055353</td>\n",
       "      <td>-0.059752</td>\n",
       "      <td>378.66</td>\n",
       "      <td>0</td>\n",
       "    </tr>\n",
       "    <tr>\n",
       "      <th>3</th>\n",
       "      <td>1.0</td>\n",
       "      <td>-0.966272</td>\n",
       "      <td>-0.185226</td>\n",
       "      <td>1.792993</td>\n",
       "      <td>-0.863291</td>\n",
       "      <td>-0.010309</td>\n",
       "      <td>1.247203</td>\n",
       "      <td>0.237609</td>\n",
       "      <td>0.377436</td>\n",
       "      <td>-1.387024</td>\n",
       "      <td>...</td>\n",
       "      <td>-0.108300</td>\n",
       "      <td>0.005274</td>\n",
       "      <td>-0.190321</td>\n",
       "      <td>-1.175575</td>\n",
       "      <td>0.647376</td>\n",
       "      <td>-0.221929</td>\n",
       "      <td>0.062723</td>\n",
       "      <td>0.061458</td>\n",
       "      <td>123.50</td>\n",
       "      <td>0</td>\n",
       "    </tr>\n",
       "    <tr>\n",
       "      <th>4</th>\n",
       "      <td>2.0</td>\n",
       "      <td>-1.158233</td>\n",
       "      <td>0.877737</td>\n",
       "      <td>1.548718</td>\n",
       "      <td>0.403034</td>\n",
       "      <td>-0.407193</td>\n",
       "      <td>0.095921</td>\n",
       "      <td>0.592941</td>\n",
       "      <td>-0.270533</td>\n",
       "      <td>0.817739</td>\n",
       "      <td>...</td>\n",
       "      <td>-0.009431</td>\n",
       "      <td>0.798278</td>\n",
       "      <td>-0.137458</td>\n",
       "      <td>0.141267</td>\n",
       "      <td>-0.206010</td>\n",
       "      <td>0.502292</td>\n",
       "      <td>0.219422</td>\n",
       "      <td>0.215153</td>\n",
       "      <td>69.99</td>\n",
       "      <td>0</td>\n",
       "    </tr>\n",
       "  </tbody>\n",
       "</table>\n",
       "<p>5 rows × 31 columns</p>\n",
       "</div>"
      ],
      "text/plain": [
       "   Time        V1        V2        V3        V4        V5        V6        V7  \\\n",
       "0   0.0 -1.359807 -0.072781  2.536347  1.378155 -0.338321  0.462388  0.239599   \n",
       "1   0.0  1.191857  0.266151  0.166480  0.448154  0.060018 -0.082361 -0.078803   \n",
       "2   1.0 -1.358354 -1.340163  1.773209  0.379780 -0.503198  1.800499  0.791461   \n",
       "3   1.0 -0.966272 -0.185226  1.792993 -0.863291 -0.010309  1.247203  0.237609   \n",
       "4   2.0 -1.158233  0.877737  1.548718  0.403034 -0.407193  0.095921  0.592941   \n",
       "\n",
       "         V8        V9  ...       V21       V22       V23       V24       V25  \\\n",
       "0  0.098698  0.363787  ... -0.018307  0.277838 -0.110474  0.066928  0.128539   \n",
       "1  0.085102 -0.255425  ... -0.225775 -0.638672  0.101288 -0.339846  0.167170   \n",
       "2  0.247676 -1.514654  ...  0.247998  0.771679  0.909412 -0.689281 -0.327642   \n",
       "3  0.377436 -1.387024  ... -0.108300  0.005274 -0.190321 -1.175575  0.647376   \n",
       "4 -0.270533  0.817739  ... -0.009431  0.798278 -0.137458  0.141267 -0.206010   \n",
       "\n",
       "        V26       V27       V28  Amount  Class  \n",
       "0 -0.189115  0.133558 -0.021053  149.62      0  \n",
       "1  0.125895 -0.008983  0.014724    2.69      0  \n",
       "2 -0.139097 -0.055353 -0.059752  378.66      0  \n",
       "3 -0.221929  0.062723  0.061458  123.50      0  \n",
       "4  0.502292  0.219422  0.215153   69.99      0  \n",
       "\n",
       "[5 rows x 31 columns]"
      ]
     },
     "execution_count": 3,
     "metadata": {},
     "output_type": "execute_result"
    }
   ],
   "source": [
    "data.head()"
   ]
  },
  {
   "cell_type": "code",
   "execution_count": 4,
   "metadata": {},
   "outputs": [
    {
     "data": {
      "text/plain": [
       "Index(['Time', 'V1', 'V2', 'V3', 'V4', 'V5', 'V6', 'V7', 'V8', 'V9', 'V10',\n",
       "       'V11', 'V12', 'V13', 'V14', 'V15', 'V16', 'V17', 'V18', 'V19', 'V20',\n",
       "       'V21', 'V22', 'V23', 'V24', 'V25', 'V26', 'V27', 'V28', 'Amount',\n",
       "       'Class'],\n",
       "      dtype='object')"
      ]
     },
     "execution_count": 4,
     "metadata": {},
     "output_type": "execute_result"
    }
   ],
   "source": [
    "data.columns"
   ]
  },
  {
   "cell_type": "code",
   "execution_count": 5,
   "metadata": {},
   "outputs": [],
   "source": [
    "compare_means = pd.concat([\n",
    "    data[data['Class'] == 0].mean().round(3),\n",
    "    data[data['Class'] == 1].mean().round(3)\n",
    "], axis = 1)\n",
    "\n",
    "compare_means.columns = ['Legit','Fraud']\n",
    "\n",
    "compare_means['AbsVar'] = abs(compare_means['Fraud'] - compare_means['Legit'])\n",
    "\n",
    "compare_means['AbsPct'] = (compare_means['AbsVar'] / compare_means['Legit']).round(3) * 100\n"
   ]
  },
  {
   "cell_type": "code",
   "execution_count": 6,
   "metadata": {
    "scrolled": false
   },
   "outputs": [
    {
     "data": {
      "text/html": [
       "<div>\n",
       "<style scoped>\n",
       "    .dataframe tbody tr th:only-of-type {\n",
       "        vertical-align: middle;\n",
       "    }\n",
       "\n",
       "    .dataframe tbody tr th {\n",
       "        vertical-align: top;\n",
       "    }\n",
       "\n",
       "    .dataframe thead th {\n",
       "        text-align: right;\n",
       "    }\n",
       "</style>\n",
       "<table border=\"1\" class=\"dataframe\">\n",
       "  <thead>\n",
       "    <tr style=\"text-align: right;\">\n",
       "      <th></th>\n",
       "      <th>Legit</th>\n",
       "      <th>Fraud</th>\n",
       "      <th>AbsVar</th>\n",
       "      <th>AbsPct</th>\n",
       "    </tr>\n",
       "  </thead>\n",
       "  <tbody>\n",
       "    <tr>\n",
       "      <th>Time</th>\n",
       "      <td>94838.202</td>\n",
       "      <td>80746.807</td>\n",
       "      <td>14091.395</td>\n",
       "      <td>14.9</td>\n",
       "    </tr>\n",
       "    <tr>\n",
       "      <th>Amount</th>\n",
       "      <td>88.291</td>\n",
       "      <td>122.211</td>\n",
       "      <td>33.920</td>\n",
       "      <td>38.4</td>\n",
       "    </tr>\n",
       "    <tr>\n",
       "      <th>V3</th>\n",
       "      <td>0.012</td>\n",
       "      <td>-7.033</td>\n",
       "      <td>7.045</td>\n",
       "      <td>58708.3</td>\n",
       "    </tr>\n",
       "    <tr>\n",
       "      <th>V14</th>\n",
       "      <td>0.012</td>\n",
       "      <td>-6.972</td>\n",
       "      <td>6.984</td>\n",
       "      <td>58200.0</td>\n",
       "    </tr>\n",
       "    <tr>\n",
       "      <th>V17</th>\n",
       "      <td>0.012</td>\n",
       "      <td>-6.666</td>\n",
       "      <td>6.678</td>\n",
       "      <td>55650.0</td>\n",
       "    </tr>\n",
       "    <tr>\n",
       "      <th>V12</th>\n",
       "      <td>0.011</td>\n",
       "      <td>-6.259</td>\n",
       "      <td>6.270</td>\n",
       "      <td>57000.0</td>\n",
       "    </tr>\n",
       "    <tr>\n",
       "      <th>V10</th>\n",
       "      <td>0.010</td>\n",
       "      <td>-5.677</td>\n",
       "      <td>5.687</td>\n",
       "      <td>56870.0</td>\n",
       "    </tr>\n",
       "    <tr>\n",
       "      <th>V7</th>\n",
       "      <td>0.010</td>\n",
       "      <td>-5.569</td>\n",
       "      <td>5.579</td>\n",
       "      <td>55790.0</td>\n",
       "    </tr>\n",
       "    <tr>\n",
       "      <th>V1</th>\n",
       "      <td>0.008</td>\n",
       "      <td>-4.772</td>\n",
       "      <td>4.780</td>\n",
       "      <td>59750.0</td>\n",
       "    </tr>\n",
       "    <tr>\n",
       "      <th>V4</th>\n",
       "      <td>-0.008</td>\n",
       "      <td>4.542</td>\n",
       "      <td>4.550</td>\n",
       "      <td>-56875.0</td>\n",
       "    </tr>\n",
       "    <tr>\n",
       "      <th>V16</th>\n",
       "      <td>0.007</td>\n",
       "      <td>-4.140</td>\n",
       "      <td>4.147</td>\n",
       "      <td>59242.9</td>\n",
       "    </tr>\n",
       "    <tr>\n",
       "      <th>V11</th>\n",
       "      <td>-0.007</td>\n",
       "      <td>3.800</td>\n",
       "      <td>3.807</td>\n",
       "      <td>-54385.7</td>\n",
       "    </tr>\n",
       "    <tr>\n",
       "      <th>V2</th>\n",
       "      <td>-0.006</td>\n",
       "      <td>3.624</td>\n",
       "      <td>3.630</td>\n",
       "      <td>-60500.0</td>\n",
       "    </tr>\n",
       "    <tr>\n",
       "      <th>V5</th>\n",
       "      <td>0.005</td>\n",
       "      <td>-3.151</td>\n",
       "      <td>3.156</td>\n",
       "      <td>63120.0</td>\n",
       "    </tr>\n",
       "    <tr>\n",
       "      <th>V9</th>\n",
       "      <td>0.004</td>\n",
       "      <td>-2.581</td>\n",
       "      <td>2.585</td>\n",
       "      <td>64625.0</td>\n",
       "    </tr>\n",
       "    <tr>\n",
       "      <th>V18</th>\n",
       "      <td>0.004</td>\n",
       "      <td>-2.246</td>\n",
       "      <td>2.250</td>\n",
       "      <td>56250.0</td>\n",
       "    </tr>\n",
       "    <tr>\n",
       "      <th>V6</th>\n",
       "      <td>0.002</td>\n",
       "      <td>-1.398</td>\n",
       "      <td>1.400</td>\n",
       "      <td>70000.0</td>\n",
       "    </tr>\n",
       "    <tr>\n",
       "      <th>Class</th>\n",
       "      <td>0.000</td>\n",
       "      <td>1.000</td>\n",
       "      <td>1.000</td>\n",
       "      <td>inf</td>\n",
       "    </tr>\n",
       "    <tr>\n",
       "      <th>V21</th>\n",
       "      <td>-0.001</td>\n",
       "      <td>0.714</td>\n",
       "      <td>0.715</td>\n",
       "      <td>-71500.0</td>\n",
       "    </tr>\n",
       "    <tr>\n",
       "      <th>V19</th>\n",
       "      <td>-0.001</td>\n",
       "      <td>0.681</td>\n",
       "      <td>0.682</td>\n",
       "      <td>-68200.0</td>\n",
       "    </tr>\n",
       "    <tr>\n",
       "      <th>V8</th>\n",
       "      <td>-0.001</td>\n",
       "      <td>0.571</td>\n",
       "      <td>0.572</td>\n",
       "      <td>-57200.0</td>\n",
       "    </tr>\n",
       "    <tr>\n",
       "      <th>V20</th>\n",
       "      <td>-0.001</td>\n",
       "      <td>0.372</td>\n",
       "      <td>0.373</td>\n",
       "      <td>-37300.0</td>\n",
       "    </tr>\n",
       "    <tr>\n",
       "      <th>V27</th>\n",
       "      <td>-0.000</td>\n",
       "      <td>0.171</td>\n",
       "      <td>0.171</td>\n",
       "      <td>-inf</td>\n",
       "    </tr>\n",
       "    <tr>\n",
       "      <th>V13</th>\n",
       "      <td>0.000</td>\n",
       "      <td>-0.109</td>\n",
       "      <td>0.109</td>\n",
       "      <td>inf</td>\n",
       "    </tr>\n",
       "    <tr>\n",
       "      <th>V24</th>\n",
       "      <td>0.000</td>\n",
       "      <td>-0.105</td>\n",
       "      <td>0.105</td>\n",
       "      <td>inf</td>\n",
       "    </tr>\n",
       "    <tr>\n",
       "      <th>V15</th>\n",
       "      <td>0.000</td>\n",
       "      <td>-0.093</td>\n",
       "      <td>0.093</td>\n",
       "      <td>inf</td>\n",
       "    </tr>\n",
       "    <tr>\n",
       "      <th>V28</th>\n",
       "      <td>-0.000</td>\n",
       "      <td>0.076</td>\n",
       "      <td>0.076</td>\n",
       "      <td>-inf</td>\n",
       "    </tr>\n",
       "    <tr>\n",
       "      <th>V26</th>\n",
       "      <td>-0.000</td>\n",
       "      <td>0.052</td>\n",
       "      <td>0.052</td>\n",
       "      <td>-inf</td>\n",
       "    </tr>\n",
       "    <tr>\n",
       "      <th>V25</th>\n",
       "      <td>-0.000</td>\n",
       "      <td>0.041</td>\n",
       "      <td>0.041</td>\n",
       "      <td>-inf</td>\n",
       "    </tr>\n",
       "    <tr>\n",
       "      <th>V23</th>\n",
       "      <td>0.000</td>\n",
       "      <td>-0.040</td>\n",
       "      <td>0.040</td>\n",
       "      <td>inf</td>\n",
       "    </tr>\n",
       "    <tr>\n",
       "      <th>V22</th>\n",
       "      <td>-0.000</td>\n",
       "      <td>0.014</td>\n",
       "      <td>0.014</td>\n",
       "      <td>-inf</td>\n",
       "    </tr>\n",
       "  </tbody>\n",
       "</table>\n",
       "</div>"
      ],
      "text/plain": [
       "            Legit      Fraud     AbsVar   AbsPct\n",
       "Time    94838.202  80746.807  14091.395     14.9\n",
       "Amount     88.291    122.211     33.920     38.4\n",
       "V3          0.012     -7.033      7.045  58708.3\n",
       "V14         0.012     -6.972      6.984  58200.0\n",
       "V17         0.012     -6.666      6.678  55650.0\n",
       "V12         0.011     -6.259      6.270  57000.0\n",
       "V10         0.010     -5.677      5.687  56870.0\n",
       "V7          0.010     -5.569      5.579  55790.0\n",
       "V1          0.008     -4.772      4.780  59750.0\n",
       "V4         -0.008      4.542      4.550 -56875.0\n",
       "V16         0.007     -4.140      4.147  59242.9\n",
       "V11        -0.007      3.800      3.807 -54385.7\n",
       "V2         -0.006      3.624      3.630 -60500.0\n",
       "V5          0.005     -3.151      3.156  63120.0\n",
       "V9          0.004     -2.581      2.585  64625.0\n",
       "V18         0.004     -2.246      2.250  56250.0\n",
       "V6          0.002     -1.398      1.400  70000.0\n",
       "Class       0.000      1.000      1.000      inf\n",
       "V21        -0.001      0.714      0.715 -71500.0\n",
       "V19        -0.001      0.681      0.682 -68200.0\n",
       "V8         -0.001      0.571      0.572 -57200.0\n",
       "V20        -0.001      0.372      0.373 -37300.0\n",
       "V27        -0.000      0.171      0.171     -inf\n",
       "V13         0.000     -0.109      0.109      inf\n",
       "V24         0.000     -0.105      0.105      inf\n",
       "V15         0.000     -0.093      0.093      inf\n",
       "V28        -0.000      0.076      0.076     -inf\n",
       "V26        -0.000      0.052      0.052     -inf\n",
       "V25        -0.000      0.041      0.041     -inf\n",
       "V23         0.000     -0.040      0.040      inf\n",
       "V22        -0.000      0.014      0.014     -inf"
      ]
     },
     "execution_count": 6,
     "metadata": {},
     "output_type": "execute_result"
    }
   ],
   "source": [
    "compare_means.sort_values(by='AbsVar', ascending=False)"
   ]
  },
  {
   "cell_type": "code",
   "execution_count": 7,
   "metadata": {},
   "outputs": [],
   "source": [
    "compare_std = pd.concat([\n",
    "    data[data['Class'] == 0].std().round(3),\n",
    "    data[data['Class'] == 1].std().round(3)\n",
    "], axis = 1)\n",
    "\n",
    "compare_std.columns = ['Legit','Fraud']\n",
    "\n",
    "compare_std['Var'] = compare_std['Fraud'] - compare_std['Legit']\n",
    "\n",
    "compare_std['AbsPct'] = (compare_std['Var'] / compare_std['Legit']).round(3) * 100\n",
    "\n",
    "compare_std.columns = ['{}_std'.format(i) for i in compare_std.columns]\n"
   ]
  },
  {
   "cell_type": "code",
   "execution_count": 8,
   "metadata": {
    "scrolled": false
   },
   "outputs": [
    {
     "data": {
      "text/html": [
       "<div>\n",
       "<style scoped>\n",
       "    .dataframe tbody tr th:only-of-type {\n",
       "        vertical-align: middle;\n",
       "    }\n",
       "\n",
       "    .dataframe tbody tr th {\n",
       "        vertical-align: top;\n",
       "    }\n",
       "\n",
       "    .dataframe thead th {\n",
       "        text-align: right;\n",
       "    }\n",
       "</style>\n",
       "<table border=\"1\" class=\"dataframe\">\n",
       "  <thead>\n",
       "    <tr style=\"text-align: right;\">\n",
       "      <th></th>\n",
       "      <th>Legit_std</th>\n",
       "      <th>Fraud_std</th>\n",
       "      <th>Var_std</th>\n",
       "      <th>AbsPct_std</th>\n",
       "    </tr>\n",
       "  </thead>\n",
       "  <tbody>\n",
       "    <tr>\n",
       "      <th>V17</th>\n",
       "      <td>0.749</td>\n",
       "      <td>6.971</td>\n",
       "      <td>6.222</td>\n",
       "      <td>830.7</td>\n",
       "    </tr>\n",
       "    <tr>\n",
       "      <th>V7</th>\n",
       "      <td>1.179</td>\n",
       "      <td>7.207</td>\n",
       "      <td>6.028</td>\n",
       "      <td>511.3</td>\n",
       "    </tr>\n",
       "    <tr>\n",
       "      <th>V8</th>\n",
       "      <td>1.161</td>\n",
       "      <td>6.798</td>\n",
       "      <td>5.637</td>\n",
       "      <td>485.5</td>\n",
       "    </tr>\n",
       "    <tr>\n",
       "      <th>V21</th>\n",
       "      <td>0.717</td>\n",
       "      <td>3.869</td>\n",
       "      <td>3.152</td>\n",
       "      <td>439.6</td>\n",
       "    </tr>\n",
       "    <tr>\n",
       "      <th>V12</th>\n",
       "      <td>0.946</td>\n",
       "      <td>4.654</td>\n",
       "      <td>3.708</td>\n",
       "      <td>392.0</td>\n",
       "    </tr>\n",
       "    <tr>\n",
       "      <th>V3</th>\n",
       "      <td>1.459</td>\n",
       "      <td>7.111</td>\n",
       "      <td>5.652</td>\n",
       "      <td>387.4</td>\n",
       "    </tr>\n",
       "    <tr>\n",
       "      <th>V14</th>\n",
       "      <td>0.897</td>\n",
       "      <td>4.279</td>\n",
       "      <td>3.382</td>\n",
       "      <td>377.0</td>\n",
       "    </tr>\n",
       "    <tr>\n",
       "      <th>V10</th>\n",
       "      <td>1.044</td>\n",
       "      <td>4.897</td>\n",
       "      <td>3.853</td>\n",
       "      <td>369.1</td>\n",
       "    </tr>\n",
       "    <tr>\n",
       "      <th>V16</th>\n",
       "      <td>0.845</td>\n",
       "      <td>3.865</td>\n",
       "      <td>3.020</td>\n",
       "      <td>357.4</td>\n",
       "    </tr>\n",
       "    <tr>\n",
       "      <th>V5</th>\n",
       "      <td>1.357</td>\n",
       "      <td>5.372</td>\n",
       "      <td>4.015</td>\n",
       "      <td>295.9</td>\n",
       "    </tr>\n",
       "    <tr>\n",
       "      <th>V1</th>\n",
       "      <td>1.930</td>\n",
       "      <td>6.784</td>\n",
       "      <td>4.854</td>\n",
       "      <td>251.5</td>\n",
       "    </tr>\n",
       "    <tr>\n",
       "      <th>V18</th>\n",
       "      <td>0.825</td>\n",
       "      <td>2.899</td>\n",
       "      <td>2.074</td>\n",
       "      <td>251.4</td>\n",
       "    </tr>\n",
       "    <tr>\n",
       "      <th>V27</th>\n",
       "      <td>0.400</td>\n",
       "      <td>1.377</td>\n",
       "      <td>0.977</td>\n",
       "      <td>244.2</td>\n",
       "    </tr>\n",
       "    <tr>\n",
       "      <th>V11</th>\n",
       "      <td>1.003</td>\n",
       "      <td>2.679</td>\n",
       "      <td>1.676</td>\n",
       "      <td>167.1</td>\n",
       "    </tr>\n",
       "    <tr>\n",
       "      <th>V2</th>\n",
       "      <td>1.636</td>\n",
       "      <td>4.291</td>\n",
       "      <td>2.655</td>\n",
       "      <td>162.3</td>\n",
       "    </tr>\n",
       "    <tr>\n",
       "      <th>V23</th>\n",
       "      <td>0.622</td>\n",
       "      <td>1.580</td>\n",
       "      <td>0.958</td>\n",
       "      <td>154.0</td>\n",
       "    </tr>\n",
       "    <tr>\n",
       "      <th>V9</th>\n",
       "      <td>1.089</td>\n",
       "      <td>2.501</td>\n",
       "      <td>1.412</td>\n",
       "      <td>129.7</td>\n",
       "    </tr>\n",
       "    <tr>\n",
       "      <th>V22</th>\n",
       "      <td>0.724</td>\n",
       "      <td>1.495</td>\n",
       "      <td>0.771</td>\n",
       "      <td>106.5</td>\n",
       "    </tr>\n",
       "    <tr>\n",
       "      <th>V4</th>\n",
       "      <td>1.399</td>\n",
       "      <td>2.873</td>\n",
       "      <td>1.474</td>\n",
       "      <td>105.4</td>\n",
       "    </tr>\n",
       "    <tr>\n",
       "      <th>V19</th>\n",
       "      <td>0.812</td>\n",
       "      <td>1.540</td>\n",
       "      <td>0.728</td>\n",
       "      <td>89.7</td>\n",
       "    </tr>\n",
       "    <tr>\n",
       "      <th>V20</th>\n",
       "      <td>0.769</td>\n",
       "      <td>1.347</td>\n",
       "      <td>0.578</td>\n",
       "      <td>75.2</td>\n",
       "    </tr>\n",
       "    <tr>\n",
       "      <th>V28</th>\n",
       "      <td>0.330</td>\n",
       "      <td>0.547</td>\n",
       "      <td>0.217</td>\n",
       "      <td>65.8</td>\n",
       "    </tr>\n",
       "    <tr>\n",
       "      <th>V25</th>\n",
       "      <td>0.521</td>\n",
       "      <td>0.797</td>\n",
       "      <td>0.276</td>\n",
       "      <td>53.0</td>\n",
       "    </tr>\n",
       "    <tr>\n",
       "      <th>V6</th>\n",
       "      <td>1.330</td>\n",
       "      <td>1.858</td>\n",
       "      <td>0.528</td>\n",
       "      <td>39.7</td>\n",
       "    </tr>\n",
       "    <tr>\n",
       "      <th>V15</th>\n",
       "      <td>0.915</td>\n",
       "      <td>1.050</td>\n",
       "      <td>0.135</td>\n",
       "      <td>14.8</td>\n",
       "    </tr>\n",
       "    <tr>\n",
       "      <th>V13</th>\n",
       "      <td>0.995</td>\n",
       "      <td>1.105</td>\n",
       "      <td>0.110</td>\n",
       "      <td>11.1</td>\n",
       "    </tr>\n",
       "    <tr>\n",
       "      <th>Amount</th>\n",
       "      <td>250.105</td>\n",
       "      <td>256.683</td>\n",
       "      <td>6.578</td>\n",
       "      <td>2.6</td>\n",
       "    </tr>\n",
       "    <tr>\n",
       "      <th>Time</th>\n",
       "      <td>47484.016</td>\n",
       "      <td>47835.365</td>\n",
       "      <td>351.349</td>\n",
       "      <td>0.7</td>\n",
       "    </tr>\n",
       "    <tr>\n",
       "      <th>V26</th>\n",
       "      <td>0.482</td>\n",
       "      <td>0.472</td>\n",
       "      <td>-0.010</td>\n",
       "      <td>-2.1</td>\n",
       "    </tr>\n",
       "    <tr>\n",
       "      <th>V24</th>\n",
       "      <td>0.606</td>\n",
       "      <td>0.516</td>\n",
       "      <td>-0.090</td>\n",
       "      <td>-14.9</td>\n",
       "    </tr>\n",
       "    <tr>\n",
       "      <th>Class</th>\n",
       "      <td>0.000</td>\n",
       "      <td>0.000</td>\n",
       "      <td>0.000</td>\n",
       "      <td>NaN</td>\n",
       "    </tr>\n",
       "  </tbody>\n",
       "</table>\n",
       "</div>"
      ],
      "text/plain": [
       "        Legit_std  Fraud_std  Var_std  AbsPct_std\n",
       "V17         0.749      6.971    6.222       830.7\n",
       "V7          1.179      7.207    6.028       511.3\n",
       "V8          1.161      6.798    5.637       485.5\n",
       "V21         0.717      3.869    3.152       439.6\n",
       "V12         0.946      4.654    3.708       392.0\n",
       "V3          1.459      7.111    5.652       387.4\n",
       "V14         0.897      4.279    3.382       377.0\n",
       "V10         1.044      4.897    3.853       369.1\n",
       "V16         0.845      3.865    3.020       357.4\n",
       "V5          1.357      5.372    4.015       295.9\n",
       "V1          1.930      6.784    4.854       251.5\n",
       "V18         0.825      2.899    2.074       251.4\n",
       "V27         0.400      1.377    0.977       244.2\n",
       "V11         1.003      2.679    1.676       167.1\n",
       "V2          1.636      4.291    2.655       162.3\n",
       "V23         0.622      1.580    0.958       154.0\n",
       "V9          1.089      2.501    1.412       129.7\n",
       "V22         0.724      1.495    0.771       106.5\n",
       "V4          1.399      2.873    1.474       105.4\n",
       "V19         0.812      1.540    0.728        89.7\n",
       "V20         0.769      1.347    0.578        75.2\n",
       "V28         0.330      0.547    0.217        65.8\n",
       "V25         0.521      0.797    0.276        53.0\n",
       "V6          1.330      1.858    0.528        39.7\n",
       "V15         0.915      1.050    0.135        14.8\n",
       "V13         0.995      1.105    0.110        11.1\n",
       "Amount    250.105    256.683    6.578         2.6\n",
       "Time    47484.016  47835.365  351.349         0.7\n",
       "V26         0.482      0.472   -0.010        -2.1\n",
       "V24         0.606      0.516   -0.090       -14.9\n",
       "Class       0.000      0.000    0.000         NaN"
      ]
     },
     "execution_count": 8,
     "metadata": {},
     "output_type": "execute_result"
    }
   ],
   "source": [
    "compare_std.sort_values(by='AbsPct_std', ascending=False)"
   ]
  },
  {
   "cell_type": "code",
   "execution_count": 9,
   "metadata": {},
   "outputs": [],
   "source": [
    "compare_mean_and_std = pd.concat([\n",
    "    compare_means,\n",
    "    compare_std\n",
    "], axis = 1)"
   ]
  },
  {
   "cell_type": "code",
   "execution_count": 10,
   "metadata": {},
   "outputs": [
    {
     "data": {
      "text/html": [
       "<div>\n",
       "<style scoped>\n",
       "    .dataframe tbody tr th:only-of-type {\n",
       "        vertical-align: middle;\n",
       "    }\n",
       "\n",
       "    .dataframe tbody tr th {\n",
       "        vertical-align: top;\n",
       "    }\n",
       "\n",
       "    .dataframe thead th {\n",
       "        text-align: right;\n",
       "    }\n",
       "</style>\n",
       "<table border=\"1\" class=\"dataframe\">\n",
       "  <thead>\n",
       "    <tr style=\"text-align: right;\">\n",
       "      <th></th>\n",
       "      <th>Legit</th>\n",
       "      <th>Fraud</th>\n",
       "      <th>AbsVar</th>\n",
       "      <th>AbsPct</th>\n",
       "      <th>Legit_std</th>\n",
       "      <th>Fraud_std</th>\n",
       "      <th>Var_std</th>\n",
       "      <th>AbsPct_std</th>\n",
       "    </tr>\n",
       "  </thead>\n",
       "  <tbody>\n",
       "    <tr>\n",
       "      <th>Time</th>\n",
       "      <td>94838.202</td>\n",
       "      <td>80746.807</td>\n",
       "      <td>14091.395</td>\n",
       "      <td>14.9</td>\n",
       "      <td>47484.016</td>\n",
       "      <td>47835.365</td>\n",
       "      <td>351.349</td>\n",
       "      <td>0.7</td>\n",
       "    </tr>\n",
       "    <tr>\n",
       "      <th>V1</th>\n",
       "      <td>0.008</td>\n",
       "      <td>-4.772</td>\n",
       "      <td>4.780</td>\n",
       "      <td>59750.0</td>\n",
       "      <td>1.930</td>\n",
       "      <td>6.784</td>\n",
       "      <td>4.854</td>\n",
       "      <td>251.5</td>\n",
       "    </tr>\n",
       "    <tr>\n",
       "      <th>V2</th>\n",
       "      <td>-0.006</td>\n",
       "      <td>3.624</td>\n",
       "      <td>3.630</td>\n",
       "      <td>-60500.0</td>\n",
       "      <td>1.636</td>\n",
       "      <td>4.291</td>\n",
       "      <td>2.655</td>\n",
       "      <td>162.3</td>\n",
       "    </tr>\n",
       "    <tr>\n",
       "      <th>V3</th>\n",
       "      <td>0.012</td>\n",
       "      <td>-7.033</td>\n",
       "      <td>7.045</td>\n",
       "      <td>58708.3</td>\n",
       "      <td>1.459</td>\n",
       "      <td>7.111</td>\n",
       "      <td>5.652</td>\n",
       "      <td>387.4</td>\n",
       "    </tr>\n",
       "    <tr>\n",
       "      <th>V4</th>\n",
       "      <td>-0.008</td>\n",
       "      <td>4.542</td>\n",
       "      <td>4.550</td>\n",
       "      <td>-56875.0</td>\n",
       "      <td>1.399</td>\n",
       "      <td>2.873</td>\n",
       "      <td>1.474</td>\n",
       "      <td>105.4</td>\n",
       "    </tr>\n",
       "    <tr>\n",
       "      <th>V5</th>\n",
       "      <td>0.005</td>\n",
       "      <td>-3.151</td>\n",
       "      <td>3.156</td>\n",
       "      <td>63120.0</td>\n",
       "      <td>1.357</td>\n",
       "      <td>5.372</td>\n",
       "      <td>4.015</td>\n",
       "      <td>295.9</td>\n",
       "    </tr>\n",
       "    <tr>\n",
       "      <th>V6</th>\n",
       "      <td>0.002</td>\n",
       "      <td>-1.398</td>\n",
       "      <td>1.400</td>\n",
       "      <td>70000.0</td>\n",
       "      <td>1.330</td>\n",
       "      <td>1.858</td>\n",
       "      <td>0.528</td>\n",
       "      <td>39.7</td>\n",
       "    </tr>\n",
       "    <tr>\n",
       "      <th>V7</th>\n",
       "      <td>0.010</td>\n",
       "      <td>-5.569</td>\n",
       "      <td>5.579</td>\n",
       "      <td>55790.0</td>\n",
       "      <td>1.179</td>\n",
       "      <td>7.207</td>\n",
       "      <td>6.028</td>\n",
       "      <td>511.3</td>\n",
       "    </tr>\n",
       "    <tr>\n",
       "      <th>V8</th>\n",
       "      <td>-0.001</td>\n",
       "      <td>0.571</td>\n",
       "      <td>0.572</td>\n",
       "      <td>-57200.0</td>\n",
       "      <td>1.161</td>\n",
       "      <td>6.798</td>\n",
       "      <td>5.637</td>\n",
       "      <td>485.5</td>\n",
       "    </tr>\n",
       "    <tr>\n",
       "      <th>V9</th>\n",
       "      <td>0.004</td>\n",
       "      <td>-2.581</td>\n",
       "      <td>2.585</td>\n",
       "      <td>64625.0</td>\n",
       "      <td>1.089</td>\n",
       "      <td>2.501</td>\n",
       "      <td>1.412</td>\n",
       "      <td>129.7</td>\n",
       "    </tr>\n",
       "    <tr>\n",
       "      <th>V10</th>\n",
       "      <td>0.010</td>\n",
       "      <td>-5.677</td>\n",
       "      <td>5.687</td>\n",
       "      <td>56870.0</td>\n",
       "      <td>1.044</td>\n",
       "      <td>4.897</td>\n",
       "      <td>3.853</td>\n",
       "      <td>369.1</td>\n",
       "    </tr>\n",
       "    <tr>\n",
       "      <th>V11</th>\n",
       "      <td>-0.007</td>\n",
       "      <td>3.800</td>\n",
       "      <td>3.807</td>\n",
       "      <td>-54385.7</td>\n",
       "      <td>1.003</td>\n",
       "      <td>2.679</td>\n",
       "      <td>1.676</td>\n",
       "      <td>167.1</td>\n",
       "    </tr>\n",
       "    <tr>\n",
       "      <th>V12</th>\n",
       "      <td>0.011</td>\n",
       "      <td>-6.259</td>\n",
       "      <td>6.270</td>\n",
       "      <td>57000.0</td>\n",
       "      <td>0.946</td>\n",
       "      <td>4.654</td>\n",
       "      <td>3.708</td>\n",
       "      <td>392.0</td>\n",
       "    </tr>\n",
       "    <tr>\n",
       "      <th>V13</th>\n",
       "      <td>0.000</td>\n",
       "      <td>-0.109</td>\n",
       "      <td>0.109</td>\n",
       "      <td>inf</td>\n",
       "      <td>0.995</td>\n",
       "      <td>1.105</td>\n",
       "      <td>0.110</td>\n",
       "      <td>11.1</td>\n",
       "    </tr>\n",
       "    <tr>\n",
       "      <th>V14</th>\n",
       "      <td>0.012</td>\n",
       "      <td>-6.972</td>\n",
       "      <td>6.984</td>\n",
       "      <td>58200.0</td>\n",
       "      <td>0.897</td>\n",
       "      <td>4.279</td>\n",
       "      <td>3.382</td>\n",
       "      <td>377.0</td>\n",
       "    </tr>\n",
       "    <tr>\n",
       "      <th>V15</th>\n",
       "      <td>0.000</td>\n",
       "      <td>-0.093</td>\n",
       "      <td>0.093</td>\n",
       "      <td>inf</td>\n",
       "      <td>0.915</td>\n",
       "      <td>1.050</td>\n",
       "      <td>0.135</td>\n",
       "      <td>14.8</td>\n",
       "    </tr>\n",
       "    <tr>\n",
       "      <th>V16</th>\n",
       "      <td>0.007</td>\n",
       "      <td>-4.140</td>\n",
       "      <td>4.147</td>\n",
       "      <td>59242.9</td>\n",
       "      <td>0.845</td>\n",
       "      <td>3.865</td>\n",
       "      <td>3.020</td>\n",
       "      <td>357.4</td>\n",
       "    </tr>\n",
       "    <tr>\n",
       "      <th>V17</th>\n",
       "      <td>0.012</td>\n",
       "      <td>-6.666</td>\n",
       "      <td>6.678</td>\n",
       "      <td>55650.0</td>\n",
       "      <td>0.749</td>\n",
       "      <td>6.971</td>\n",
       "      <td>6.222</td>\n",
       "      <td>830.7</td>\n",
       "    </tr>\n",
       "    <tr>\n",
       "      <th>V18</th>\n",
       "      <td>0.004</td>\n",
       "      <td>-2.246</td>\n",
       "      <td>2.250</td>\n",
       "      <td>56250.0</td>\n",
       "      <td>0.825</td>\n",
       "      <td>2.899</td>\n",
       "      <td>2.074</td>\n",
       "      <td>251.4</td>\n",
       "    </tr>\n",
       "    <tr>\n",
       "      <th>V19</th>\n",
       "      <td>-0.001</td>\n",
       "      <td>0.681</td>\n",
       "      <td>0.682</td>\n",
       "      <td>-68200.0</td>\n",
       "      <td>0.812</td>\n",
       "      <td>1.540</td>\n",
       "      <td>0.728</td>\n",
       "      <td>89.7</td>\n",
       "    </tr>\n",
       "    <tr>\n",
       "      <th>V20</th>\n",
       "      <td>-0.001</td>\n",
       "      <td>0.372</td>\n",
       "      <td>0.373</td>\n",
       "      <td>-37300.0</td>\n",
       "      <td>0.769</td>\n",
       "      <td>1.347</td>\n",
       "      <td>0.578</td>\n",
       "      <td>75.2</td>\n",
       "    </tr>\n",
       "    <tr>\n",
       "      <th>V21</th>\n",
       "      <td>-0.001</td>\n",
       "      <td>0.714</td>\n",
       "      <td>0.715</td>\n",
       "      <td>-71500.0</td>\n",
       "      <td>0.717</td>\n",
       "      <td>3.869</td>\n",
       "      <td>3.152</td>\n",
       "      <td>439.6</td>\n",
       "    </tr>\n",
       "    <tr>\n",
       "      <th>V22</th>\n",
       "      <td>-0.000</td>\n",
       "      <td>0.014</td>\n",
       "      <td>0.014</td>\n",
       "      <td>-inf</td>\n",
       "      <td>0.724</td>\n",
       "      <td>1.495</td>\n",
       "      <td>0.771</td>\n",
       "      <td>106.5</td>\n",
       "    </tr>\n",
       "    <tr>\n",
       "      <th>V23</th>\n",
       "      <td>0.000</td>\n",
       "      <td>-0.040</td>\n",
       "      <td>0.040</td>\n",
       "      <td>inf</td>\n",
       "      <td>0.622</td>\n",
       "      <td>1.580</td>\n",
       "      <td>0.958</td>\n",
       "      <td>154.0</td>\n",
       "    </tr>\n",
       "    <tr>\n",
       "      <th>V24</th>\n",
       "      <td>0.000</td>\n",
       "      <td>-0.105</td>\n",
       "      <td>0.105</td>\n",
       "      <td>inf</td>\n",
       "      <td>0.606</td>\n",
       "      <td>0.516</td>\n",
       "      <td>-0.090</td>\n",
       "      <td>-14.9</td>\n",
       "    </tr>\n",
       "    <tr>\n",
       "      <th>V25</th>\n",
       "      <td>-0.000</td>\n",
       "      <td>0.041</td>\n",
       "      <td>0.041</td>\n",
       "      <td>-inf</td>\n",
       "      <td>0.521</td>\n",
       "      <td>0.797</td>\n",
       "      <td>0.276</td>\n",
       "      <td>53.0</td>\n",
       "    </tr>\n",
       "    <tr>\n",
       "      <th>V26</th>\n",
       "      <td>-0.000</td>\n",
       "      <td>0.052</td>\n",
       "      <td>0.052</td>\n",
       "      <td>-inf</td>\n",
       "      <td>0.482</td>\n",
       "      <td>0.472</td>\n",
       "      <td>-0.010</td>\n",
       "      <td>-2.1</td>\n",
       "    </tr>\n",
       "    <tr>\n",
       "      <th>V27</th>\n",
       "      <td>-0.000</td>\n",
       "      <td>0.171</td>\n",
       "      <td>0.171</td>\n",
       "      <td>-inf</td>\n",
       "      <td>0.400</td>\n",
       "      <td>1.377</td>\n",
       "      <td>0.977</td>\n",
       "      <td>244.2</td>\n",
       "    </tr>\n",
       "    <tr>\n",
       "      <th>V28</th>\n",
       "      <td>-0.000</td>\n",
       "      <td>0.076</td>\n",
       "      <td>0.076</td>\n",
       "      <td>-inf</td>\n",
       "      <td>0.330</td>\n",
       "      <td>0.547</td>\n",
       "      <td>0.217</td>\n",
       "      <td>65.8</td>\n",
       "    </tr>\n",
       "    <tr>\n",
       "      <th>Amount</th>\n",
       "      <td>88.291</td>\n",
       "      <td>122.211</td>\n",
       "      <td>33.920</td>\n",
       "      <td>38.4</td>\n",
       "      <td>250.105</td>\n",
       "      <td>256.683</td>\n",
       "      <td>6.578</td>\n",
       "      <td>2.6</td>\n",
       "    </tr>\n",
       "    <tr>\n",
       "      <th>Class</th>\n",
       "      <td>0.000</td>\n",
       "      <td>1.000</td>\n",
       "      <td>1.000</td>\n",
       "      <td>inf</td>\n",
       "      <td>0.000</td>\n",
       "      <td>0.000</td>\n",
       "      <td>0.000</td>\n",
       "      <td>NaN</td>\n",
       "    </tr>\n",
       "  </tbody>\n",
       "</table>\n",
       "</div>"
      ],
      "text/plain": [
       "            Legit      Fraud     AbsVar   AbsPct  Legit_std  Fraud_std  \\\n",
       "Time    94838.202  80746.807  14091.395     14.9  47484.016  47835.365   \n",
       "V1          0.008     -4.772      4.780  59750.0      1.930      6.784   \n",
       "V2         -0.006      3.624      3.630 -60500.0      1.636      4.291   \n",
       "V3          0.012     -7.033      7.045  58708.3      1.459      7.111   \n",
       "V4         -0.008      4.542      4.550 -56875.0      1.399      2.873   \n",
       "V5          0.005     -3.151      3.156  63120.0      1.357      5.372   \n",
       "V6          0.002     -1.398      1.400  70000.0      1.330      1.858   \n",
       "V7          0.010     -5.569      5.579  55790.0      1.179      7.207   \n",
       "V8         -0.001      0.571      0.572 -57200.0      1.161      6.798   \n",
       "V9          0.004     -2.581      2.585  64625.0      1.089      2.501   \n",
       "V10         0.010     -5.677      5.687  56870.0      1.044      4.897   \n",
       "V11        -0.007      3.800      3.807 -54385.7      1.003      2.679   \n",
       "V12         0.011     -6.259      6.270  57000.0      0.946      4.654   \n",
       "V13         0.000     -0.109      0.109      inf      0.995      1.105   \n",
       "V14         0.012     -6.972      6.984  58200.0      0.897      4.279   \n",
       "V15         0.000     -0.093      0.093      inf      0.915      1.050   \n",
       "V16         0.007     -4.140      4.147  59242.9      0.845      3.865   \n",
       "V17         0.012     -6.666      6.678  55650.0      0.749      6.971   \n",
       "V18         0.004     -2.246      2.250  56250.0      0.825      2.899   \n",
       "V19        -0.001      0.681      0.682 -68200.0      0.812      1.540   \n",
       "V20        -0.001      0.372      0.373 -37300.0      0.769      1.347   \n",
       "V21        -0.001      0.714      0.715 -71500.0      0.717      3.869   \n",
       "V22        -0.000      0.014      0.014     -inf      0.724      1.495   \n",
       "V23         0.000     -0.040      0.040      inf      0.622      1.580   \n",
       "V24         0.000     -0.105      0.105      inf      0.606      0.516   \n",
       "V25        -0.000      0.041      0.041     -inf      0.521      0.797   \n",
       "V26        -0.000      0.052      0.052     -inf      0.482      0.472   \n",
       "V27        -0.000      0.171      0.171     -inf      0.400      1.377   \n",
       "V28        -0.000      0.076      0.076     -inf      0.330      0.547   \n",
       "Amount     88.291    122.211     33.920     38.4    250.105    256.683   \n",
       "Class       0.000      1.000      1.000      inf      0.000      0.000   \n",
       "\n",
       "        Var_std  AbsPct_std  \n",
       "Time    351.349         0.7  \n",
       "V1        4.854       251.5  \n",
       "V2        2.655       162.3  \n",
       "V3        5.652       387.4  \n",
       "V4        1.474       105.4  \n",
       "V5        4.015       295.9  \n",
       "V6        0.528        39.7  \n",
       "V7        6.028       511.3  \n",
       "V8        5.637       485.5  \n",
       "V9        1.412       129.7  \n",
       "V10       3.853       369.1  \n",
       "V11       1.676       167.1  \n",
       "V12       3.708       392.0  \n",
       "V13       0.110        11.1  \n",
       "V14       3.382       377.0  \n",
       "V15       0.135        14.8  \n",
       "V16       3.020       357.4  \n",
       "V17       6.222       830.7  \n",
       "V18       2.074       251.4  \n",
       "V19       0.728        89.7  \n",
       "V20       0.578        75.2  \n",
       "V21       3.152       439.6  \n",
       "V22       0.771       106.5  \n",
       "V23       0.958       154.0  \n",
       "V24      -0.090       -14.9  \n",
       "V25       0.276        53.0  \n",
       "V26      -0.010        -2.1  \n",
       "V27       0.977       244.2  \n",
       "V28       0.217        65.8  \n",
       "Amount    6.578         2.6  \n",
       "Class     0.000         NaN  "
      ]
     },
     "execution_count": 10,
     "metadata": {},
     "output_type": "execute_result"
    }
   ],
   "source": [
    "compare_mean_and_std"
   ]
  },
  {
   "cell_type": "code",
   "execution_count": null,
   "metadata": {
    "scrolled": false
   },
   "outputs": [],
   "source": []
  },
  {
   "cell_type": "code",
   "execution_count": 11,
   "metadata": {},
   "outputs": [
    {
     "data": {
      "text/plain": [
       "<matplotlib.axes._subplots.AxesSubplot at 0x13600ef3128>"
      ]
     },
     "execution_count": 11,
     "metadata": {},
     "output_type": "execute_result"
    },
    {
     "data": {
      "image/png": "[encoded data removed]",
      "text/plain": [
       "<Figure size 864x432 with 2 Axes>"
      ]
     },
     "metadata": {
      "needs_background": "light"
     },
     "output_type": "display_data"
    }
   ],
   "source": [
    "plt.figure(figsize=(12,6))\n",
    "sns.heatmap(data.corr(),cmap='viridis')"
   ]
  },
  {
   "cell_type": "code",
   "execution_count": 12,
   "metadata": {},
   "outputs": [],
   "source": [
    "# Custom script; work can be seen in MyDataTools.py available in the same repo as this notebook\n",
    "from MyDataTools import explore"
   ]
  },
  {
   "cell_type": "code",
   "execution_count": 13,
   "metadata": {},
   "outputs": [],
   "source": [
    "e = explore()"
   ]
  },
  {
   "cell_type": "code",
   "execution_count": 14,
   "metadata": {
    "scrolled": false
   },
   "outputs": [
    {
     "name": "stdout",
     "output_type": "stream",
     "text": [
      "-----\n",
      "Col Name: Amount\n",
      "Total values: 284807\n",
      "Floor: -493.430 (0 values; 0.00%)\n",
      "Cap: 670.129 (5935 values; 2.08%)\n"
     ]
    },
    {
     "name": "stderr",
     "output_type": "stream",
     "text": [
      "C:\\Users\\wband\\OneDrive\\Documents\\github\\research\\MyDataTools.py:53: SettingWithCopyWarning: \n",
      "A value is trying to be set on a copy of a slice from a DataFrame.\n",
      "Try using .loc[row_indexer,col_indexer] = value instead\n",
      "\n",
      "See the caveats in the documentation: http://pandas.pydata.org/pandas-docs/stable/indexing.html#indexing-view-versus-copy\n",
      "  df_use[col] = df_use[col] if cap_floor is None else self.set_cap_floor(df_use[col])\n"
     ]
    },
    {
     "data": {
      "image/png": "[encoded data removed]",
      "text/plain": [
       "<Figure size 864x288 with 2 Axes>"
      ]
     },
     "metadata": {
      "needs_background": "light"
     },
     "output_type": "display_data"
    },
    {
     "name": "stdout",
     "output_type": "stream",
     "text": [
      "Raw Hist:\n",
      "               0      1\n",
      "0.00    205600.0  315.0\n",
      "67.01    34307.0   74.0\n",
      "134.03   15780.0   18.0\n",
      "201.04    7711.0   16.0\n",
      "268.05    5079.0   17.0\n",
      "335.06    3422.0   10.0\n",
      "402.08    2193.0    5.0\n",
      "469.09    1929.0    6.0\n",
      "536.10    1371.0    4.0\n",
      "603.12    6923.0   27.0\n",
      "\n",
      "Norm Hist:\n",
      "            0      1\n",
      "0.00    0.723  0.640\n",
      "67.01   0.121  0.150\n",
      "134.03  0.056  0.037\n",
      "201.04  0.027  0.033\n",
      "268.05  0.018  0.035\n",
      "335.06  0.012  0.020\n",
      "402.08  0.008  0.010\n",
      "469.09  0.007  0.012\n",
      "536.10  0.005  0.008\n",
      "603.12  0.024  0.055\n",
      "\n",
      "Value Counts from DF:\n",
      "0    284315\n",
      "1       492\n",
      "Name: Class, dtype: int64\n",
      "\n",
      "Value Counts from Hist:\n",
      "0    284315.0\n",
      "1       492.0\n",
      "dtype: float64\n",
      "\n",
      "-----\n",
      "Col Name: Time\n",
      "Total values: 284807\n",
      "Floor: -15643.568 (0 values; 0.00%)\n",
      "Cap: 205271.287 (0 values; 0.00%)\n"
     ]
    },
    {
     "data": {
      "image/png": "[encoded data removed]",
      "text/plain": [
       "<Figure size 864x288 with 2 Axes>"
      ]
     },
     "metadata": {
      "needs_background": "light"
     },
     "output_type": "display_data"
    },
    {
     "name": "stdout",
     "output_type": "stream",
     "text": [
      "Raw Hist:\n",
      "                0     1\n",
      "0.0       10468.0  42.0\n",
      "17279.2   16907.0  48.0\n",
      "34558.4   38447.0  79.0\n",
      "51837.6   38487.0  63.0\n",
      "69116.8   40194.0  49.0\n",
      "86396.0   10077.0  68.0\n",
      "103675.2  17150.0  11.0\n",
      "120954.4  38917.0  34.0\n",
      "138233.6  40713.0  66.0\n",
      "155512.8  32955.0  32.0\n",
      "\n",
      "Norm Hist:\n",
      "              0      1\n",
      "0.0       0.037  0.085\n",
      "17279.2   0.059  0.098\n",
      "34558.4   0.135  0.161\n",
      "51837.6   0.135  0.128\n",
      "69116.8   0.141  0.100\n",
      "86396.0   0.035  0.138\n",
      "103675.2  0.060  0.022\n",
      "120954.4  0.137  0.069\n",
      "138233.6  0.143  0.134\n",
      "155512.8  0.116  0.065\n",
      "\n",
      "Value Counts from DF:\n",
      "0    284315\n",
      "1       492\n",
      "Name: Class, dtype: int64\n",
      "\n",
      "Value Counts from Hist:\n",
      "0    284315.0\n",
      "1       492.0\n",
      "dtype: float64\n",
      "\n",
      "-----\n",
      "Col Name: V1\n",
      "Total values: 284807\n",
      "Floor: -4.556 (6233 values; 2.19%)\n",
      "Cap: 4.556 (0 values; 0.00%)\n"
     ]
    },
    {
     "data": {
      "image/png": "[encoded data removed]",
      "text/plain": [
       "<Figure size 864x288 with 2 Axes>"
      ]
     },
     "metadata": {
      "needs_background": "light"
     },
     "output_type": "display_data"
    },
    {
     "name": "stdout",
     "output_type": "stream",
     "text": [
      "Raw Hist:\n",
      "             0      1\n",
      "-4.56   8394.0  187.0\n",
      "-3.85   3676.0   24.0\n",
      "-3.15   6653.0   26.0\n",
      "-2.45  13097.0   46.0\n",
      "-1.75  29886.0   53.0\n",
      "-1.05  59042.0   38.0\n",
      "-0.35  32738.0   37.0\n",
      " 0.35  18643.0   31.0\n",
      " 1.05  57014.0   37.0\n",
      " 1.75  55172.0   13.0\n",
      "\n",
      "Norm Hist:\n",
      "           0      1\n",
      "-4.56  0.030  0.380\n",
      "-3.85  0.013  0.049\n",
      "-3.15  0.023  0.053\n",
      "-2.45  0.046  0.093\n",
      "-1.75  0.105  0.108\n",
      "-1.05  0.208  0.077\n",
      "-0.35  0.115  0.075\n",
      " 0.35  0.066  0.063\n",
      " 1.05  0.201  0.075\n",
      " 1.75  0.194  0.026\n",
      "\n",
      "Value Counts from DF:\n",
      "0    284315\n",
      "1       492\n",
      "Name: Class, dtype: int64\n",
      "\n",
      "Value Counts from Hist:\n",
      "0    284315.0\n",
      "1       492.0\n",
      "dtype: float64\n",
      "\n"
     ]
    }
   ],
   "source": [
    "# Compare the normalized and raw distributions of all features\n",
    "# This allows us to get a sense of how distinct each feature is between the classes in the dataset.\n",
    "e.compare_hists(df=data, target_col='Class', specific_cols=['Amount','Time','V1'], cap_floor=True)"
   ]
  },
  {
   "cell_type": "markdown",
   "metadata": {},
   "source": [
    "## Data Check\n",
    "- Null values?\n",
    "- Normalizing?\n",
    "- Incorrect values?\n",
    "- Possibility of feature engineering?"
   ]
  },
  {
   "cell_type": "code",
   "execution_count": 15,
   "metadata": {},
   "outputs": [
    {
     "data": {
      "text/plain": [
       "492"
      ]
     },
     "execution_count": 15,
     "metadata": {},
     "output_type": "execute_result"
    }
   ],
   "source": [
    "data.Class.sum()"
   ]
  },
  {
   "cell_type": "code",
   "execution_count": 16,
   "metadata": {},
   "outputs": [
    {
     "data": {
      "text/plain": [
       "284807"
      ]
     },
     "execution_count": 16,
     "metadata": {},
     "output_type": "execute_result"
    }
   ],
   "source": [
    "len(data.Class)"
   ]
  },
  {
   "cell_type": "code",
   "execution_count": 17,
   "metadata": {},
   "outputs": [
    {
     "data": {
      "text/plain": [
       "Time      0\n",
       "V1        0\n",
       "V2        0\n",
       "V3        0\n",
       "V4        0\n",
       "V5        0\n",
       "V6        0\n",
       "V7        0\n",
       "V8        0\n",
       "V9        0\n",
       "V10       0\n",
       "V11       0\n",
       "V12       0\n",
       "V13       0\n",
       "V14       0\n",
       "V15       0\n",
       "V16       0\n",
       "V17       0\n",
       "V18       0\n",
       "V19       0\n",
       "V20       0\n",
       "V21       0\n",
       "V22       0\n",
       "V23       0\n",
       "V24       0\n",
       "V25       0\n",
       "V26       0\n",
       "V27       0\n",
       "V28       0\n",
       "Amount    0\n",
       "Class     0\n",
       "dtype: int64"
      ]
     },
     "execution_count": 17,
     "metadata": {},
     "output_type": "execute_result"
    }
   ],
   "source": [
    "data.isnull().sum()"
   ]
  },
  {
   "cell_type": "code",
   "execution_count": 18,
   "metadata": {},
   "outputs": [],
   "source": [
    "# from sklearn.preprocessing import StandardScaler\n",
    "\n",
    "# S = StandardScaler()\n",
    "\n",
    "# data['Time_scaled'] = S.fit_transform(X=data[['Time']])\n",
    "# data['Amount_scaled'] = S.fit_transform(X=data[['Amount']])"
   ]
  },
  {
   "cell_type": "code",
   "execution_count": null,
   "metadata": {},
   "outputs": [],
   "source": []
  },
  {
   "cell_type": "code",
   "execution_count": 19,
   "metadata": {},
   "outputs": [
    {
     "data": {
      "text/html": [
       "<div>\n",
       "<style scoped>\n",
       "    .dataframe tbody tr th:only-of-type {\n",
       "        vertical-align: middle;\n",
       "    }\n",
       "\n",
       "    .dataframe tbody tr th {\n",
       "        vertical-align: top;\n",
       "    }\n",
       "\n",
       "    .dataframe thead th {\n",
       "        text-align: right;\n",
       "    }\n",
       "</style>\n",
       "<table border=\"1\" class=\"dataframe\">\n",
       "  <thead>\n",
       "    <tr style=\"text-align: right;\">\n",
       "      <th></th>\n",
       "      <th>Time</th>\n",
       "      <th>V1</th>\n",
       "      <th>V2</th>\n",
       "      <th>V3</th>\n",
       "      <th>V4</th>\n",
       "      <th>V5</th>\n",
       "      <th>V6</th>\n",
       "      <th>V7</th>\n",
       "      <th>V8</th>\n",
       "      <th>V9</th>\n",
       "      <th>...</th>\n",
       "      <th>V21</th>\n",
       "      <th>V22</th>\n",
       "      <th>V23</th>\n",
       "      <th>V24</th>\n",
       "      <th>V25</th>\n",
       "      <th>V26</th>\n",
       "      <th>V27</th>\n",
       "      <th>V28</th>\n",
       "      <th>Amount</th>\n",
       "      <th>Class</th>\n",
       "    </tr>\n",
       "  </thead>\n",
       "  <tbody>\n",
       "    <tr>\n",
       "      <th>0</th>\n",
       "      <td>0.0</td>\n",
       "      <td>-1.359807</td>\n",
       "      <td>-0.072781</td>\n",
       "      <td>2.536347</td>\n",
       "      <td>1.378155</td>\n",
       "      <td>-0.338321</td>\n",
       "      <td>0.462388</td>\n",
       "      <td>0.239599</td>\n",
       "      <td>0.098698</td>\n",
       "      <td>0.363787</td>\n",
       "      <td>...</td>\n",
       "      <td>-0.018307</td>\n",
       "      <td>0.277838</td>\n",
       "      <td>-0.110474</td>\n",
       "      <td>0.066928</td>\n",
       "      <td>0.128539</td>\n",
       "      <td>-0.189115</td>\n",
       "      <td>0.133558</td>\n",
       "      <td>-0.021053</td>\n",
       "      <td>149.62</td>\n",
       "      <td>0</td>\n",
       "    </tr>\n",
       "    <tr>\n",
       "      <th>1</th>\n",
       "      <td>0.0</td>\n",
       "      <td>1.191857</td>\n",
       "      <td>0.266151</td>\n",
       "      <td>0.166480</td>\n",
       "      <td>0.448154</td>\n",
       "      <td>0.060018</td>\n",
       "      <td>-0.082361</td>\n",
       "      <td>-0.078803</td>\n",
       "      <td>0.085102</td>\n",
       "      <td>-0.255425</td>\n",
       "      <td>...</td>\n",
       "      <td>-0.225775</td>\n",
       "      <td>-0.638672</td>\n",
       "      <td>0.101288</td>\n",
       "      <td>-0.339846</td>\n",
       "      <td>0.167170</td>\n",
       "      <td>0.125895</td>\n",
       "      <td>-0.008983</td>\n",
       "      <td>0.014724</td>\n",
       "      <td>2.69</td>\n",
       "      <td>0</td>\n",
       "    </tr>\n",
       "    <tr>\n",
       "      <th>2</th>\n",
       "      <td>1.0</td>\n",
       "      <td>-1.358354</td>\n",
       "      <td>-1.340163</td>\n",
       "      <td>1.773209</td>\n",
       "      <td>0.379780</td>\n",
       "      <td>-0.503198</td>\n",
       "      <td>1.800499</td>\n",
       "      <td>0.791461</td>\n",
       "      <td>0.247676</td>\n",
       "      <td>-1.514654</td>\n",
       "      <td>...</td>\n",
       "      <td>0.247998</td>\n",
       "      <td>0.771679</td>\n",
       "      <td>0.909412</td>\n",
       "      <td>-0.689281</td>\n",
       "      <td>-0.327642</td>\n",
       "      <td>-0.139097</td>\n",
       "      <td>-0.055353</td>\n",
       "      <td>-0.059752</td>\n",
       "      <td>378.66</td>\n",
       "      <td>0</td>\n",
       "    </tr>\n",
       "    <tr>\n",
       "      <th>3</th>\n",
       "      <td>1.0</td>\n",
       "      <td>-0.966272</td>\n",
       "      <td>-0.185226</td>\n",
       "      <td>1.792993</td>\n",
       "      <td>-0.863291</td>\n",
       "      <td>-0.010309</td>\n",
       "      <td>1.247203</td>\n",
       "      <td>0.237609</td>\n",
       "      <td>0.377436</td>\n",
       "      <td>-1.387024</td>\n",
       "      <td>...</td>\n",
       "      <td>-0.108300</td>\n",
       "      <td>0.005274</td>\n",
       "      <td>-0.190321</td>\n",
       "      <td>-1.175575</td>\n",
       "      <td>0.647376</td>\n",
       "      <td>-0.221929</td>\n",
       "      <td>0.062723</td>\n",
       "      <td>0.061458</td>\n",
       "      <td>123.50</td>\n",
       "      <td>0</td>\n",
       "    </tr>\n",
       "    <tr>\n",
       "      <th>4</th>\n",
       "      <td>2.0</td>\n",
       "      <td>-1.158233</td>\n",
       "      <td>0.877737</td>\n",
       "      <td>1.548718</td>\n",
       "      <td>0.403034</td>\n",
       "      <td>-0.407193</td>\n",
       "      <td>0.095921</td>\n",
       "      <td>0.592941</td>\n",
       "      <td>-0.270533</td>\n",
       "      <td>0.817739</td>\n",
       "      <td>...</td>\n",
       "      <td>-0.009431</td>\n",
       "      <td>0.798278</td>\n",
       "      <td>-0.137458</td>\n",
       "      <td>0.141267</td>\n",
       "      <td>-0.206010</td>\n",
       "      <td>0.502292</td>\n",
       "      <td>0.219422</td>\n",
       "      <td>0.215153</td>\n",
       "      <td>69.99</td>\n",
       "      <td>0</td>\n",
       "    </tr>\n",
       "  </tbody>\n",
       "</table>\n",
       "<p>5 rows × 31 columns</p>\n",
       "</div>"
      ],
      "text/plain": [
       "   Time        V1        V2        V3        V4        V5        V6        V7  \\\n",
       "0   0.0 -1.359807 -0.072781  2.536347  1.378155 -0.338321  0.462388  0.239599   \n",
       "1   0.0  1.191857  0.266151  0.166480  0.448154  0.060018 -0.082361 -0.078803   \n",
       "2   1.0 -1.358354 -1.340163  1.773209  0.379780 -0.503198  1.800499  0.791461   \n",
       "3   1.0 -0.966272 -0.185226  1.792993 -0.863291 -0.010309  1.247203  0.237609   \n",
       "4   2.0 -1.158233  0.877737  1.548718  0.403034 -0.407193  0.095921  0.592941   \n",
       "\n",
       "         V8        V9  ...       V21       V22       V23       V24       V25  \\\n",
       "0  0.098698  0.363787  ... -0.018307  0.277838 -0.110474  0.066928  0.128539   \n",
       "1  0.085102 -0.255425  ... -0.225775 -0.638672  0.101288 -0.339846  0.167170   \n",
       "2  0.247676 -1.514654  ...  0.247998  0.771679  0.909412 -0.689281 -0.327642   \n",
       "3  0.377436 -1.387024  ... -0.108300  0.005274 -0.190321 -1.175575  0.647376   \n",
       "4 -0.270533  0.817739  ... -0.009431  0.798278 -0.137458  0.141267 -0.206010   \n",
       "\n",
       "        V26       V27       V28  Amount  Class  \n",
       "0 -0.189115  0.133558 -0.021053  149.62      0  \n",
       "1  0.125895 -0.008983  0.014724    2.69      0  \n",
       "2 -0.139097 -0.055353 -0.059752  378.66      0  \n",
       "3 -0.221929  0.062723  0.061458  123.50      0  \n",
       "4  0.502292  0.219422  0.215153   69.99      0  \n",
       "\n",
       "[5 rows x 31 columns]"
      ]
     },
     "execution_count": 19,
     "metadata": {},
     "output_type": "execute_result"
    }
   ],
   "source": [
    "data.head()"
   ]
  },
  {
   "cell_type": "markdown",
   "metadata": {},
   "source": [
    "Seems like everything's there. That makes things easy. Let's get weird."
   ]
  },
  {
   "cell_type": "code",
   "execution_count": 20,
   "metadata": {},
   "outputs": [],
   "source": [
    "from sklearn.ensemble import RandomForestClassifier, GradientBoostingClassifier\n",
    "from sklearn.metrics import classification_report, confusion_matrix\n",
    "from sklearn.model_selection import train_test_split, cross_val_score, StratifiedKFold\n",
    "from xgboost import XGBClassifier"
   ]
  },
  {
   "cell_type": "code",
   "execution_count": 21,
   "metadata": {},
   "outputs": [],
   "source": [
    "X = data.drop(columns=['Class'])\n",
    "y = data.Class"
   ]
  },
  {
   "cell_type": "raw",
   "metadata": {},
   "source": []
  },
  {
   "cell_type": "code",
   "execution_count": 22,
   "metadata": {
    "scrolled": true
   },
   "outputs": [],
   "source": [
    "X_train, X_test, y_train, y_test = train_test_split(X, y, test_size = 0.2, stratify = y)\n",
    "X_train, X_val, y_train, y_val = train_test_split(X_train, y_train, test_size = 0.2, stratify = y_train)"
   ]
  },
  {
   "cell_type": "code",
   "execution_count": 23,
   "metadata": {},
   "outputs": [],
   "source": [
    "from MyDataTools import model\n",
    "\n",
    "m = model()\n",
    "\n",
    "rf0 = RandomForestClassifier(n_estimators=50)\n",
    "\n",
    "xgb = XGBClassifier()\n",
    "\n",
    "gb0 = GradientBoostingClassifier(n_estimators=50)"
   ]
  },
  {
   "cell_type": "code",
   "execution_count": 24,
   "metadata": {},
   "outputs": [
    {
     "name": "stdout",
     "output_type": "stream",
     "text": [
      "RandomForestClassifier(bootstrap=True, class_weight=None, criterion='gini',\n",
      "            max_depth=None, max_features='auto', max_leaf_nodes=None,\n",
      "            min_impurity_decrease=0.0, min_impurity_split=None,\n",
      "            min_samples_leaf=1, min_samples_split=2,\n",
      "            min_weight_fraction_leaf=0.0, n_estimators=50, n_jobs=None,\n",
      "            oob_score=False, random_state=None, verbose=0,\n",
      "            warm_start=False)\n"
     ]
    },
    {
     "data": {
      "image/png": "[encoded data removed]",
      "text/plain": [
       "<Figure size 864x432 with 1 Axes>"
      ]
     },
     "metadata": {
      "needs_background": "light"
     },
     "output_type": "display_data"
    },
    {
     "name": "stdout",
     "output_type": "stream",
     "text": [
      "-----\n",
      "\n",
      "GradientBoostingClassifier(criterion='friedman_mse', init=None,\n",
      "              learning_rate=0.1, loss='deviance', max_depth=3,\n",
      "              max_features=None, max_leaf_nodes=None,\n",
      "              min_impurity_decrease=0.0, min_impurity_split=None,\n",
      "              min_samples_leaf=1, min_samples_split=2,\n",
      "              min_weight_fraction_leaf=0.0, n_estimators=50,\n",
      "              n_iter_no_change=None, presort='auto', random_state=None,\n",
      "              subsample=1.0, tol=0.0001, validation_fraction=0.1,\n",
      "              verbose=0, warm_start=False)\n"
     ]
    },
    {
     "data": {
      "image/png": "[encoded data removed]",
      "text/plain": [
       "<Figure size 864x432 with 1 Axes>"
      ]
     },
     "metadata": {
      "needs_background": "light"
     },
     "output_type": "display_data"
    },
    {
     "name": "stdout",
     "output_type": "stream",
     "text": [
      "-----\n",
      "\n",
      "XGBClassifier(base_score=0.5, booster='gbtree', colsample_bylevel=1,\n",
      "       colsample_bynode=1, colsample_bytree=1, gamma=0, learning_rate=0.1,\n",
      "       max_delta_step=0, max_depth=3, min_child_weight=1, missing=None,\n",
      "       n_estimators=100, n_jobs=1, nthread=None,\n",
      "       objective='binary:logistic', random_state=0, reg_alpha=0,\n",
      "       reg_lambda=1, scale_pos_weight=1, seed=None, silent=None,\n",
      "       subsample=1, verbosity=1)\n"
     ]
    },
    {
     "data": {
      "image/png": "[encoded data removed]",
      "text/plain": [
       "<Figure size 864x432 with 1 Axes>"
      ]
     },
     "metadata": {
      "needs_background": "light"
     },
     "output_type": "display_data"
    },
    {
     "name": "stdout",
     "output_type": "stream",
     "text": [
      "-----\n",
      "\n"
     ]
    }
   ],
   "source": [
    "m.cross_val_roc_auc_plot([rf0, gb0, xgb], xval = X_val, yval = y_val)"
   ]
  },
  {
   "cell_type": "code",
   "execution_count": 25,
   "metadata": {
    "scrolled": false
   },
   "outputs": [
    {
     "data": {
      "image/png": "[encoded data removed]",
      "text/plain": [
       "<Figure size 864x432 with 1 Axes>"
      ]
     },
     "metadata": {
      "needs_background": "light"
     },
     "output_type": "display_data"
    },
    {
     "name": "stdout",
     "output_type": "stream",
     "text": [
      "RandomForestClassifier(bootstrap=True, class_weight=None, criterion='gini',\n",
      "            max_depth=None, max_features='auto', max_leaf_nodes=None,\n",
      "            min_impurity_decrease=0.0, min_impurity_split=None,\n",
      "            min_samples_leaf=1, min_samples_split=2,\n",
      "            min_weight_fraction_leaf=0.0, n_estimators=50, n_jobs=None,\n",
      "            oob_score=False, random_state=None, verbose=0,\n",
      "            warm_start=False)\n",
      "Avg. Area Under P-R Curve: 0.854 (+/-0.058)\n",
      "Avg. Precision Score: 0.850 (+/-0.053)\n",
      "-----\n",
      "\n"
     ]
    },
    {
     "data": {
      "image/png": "[encoded data removed]",
      "text/plain": [
       "<Figure size 864x432 with 1 Axes>"
      ]
     },
     "metadata": {
      "needs_background": "light"
     },
     "output_type": "display_data"
    },
    {
     "name": "stdout",
     "output_type": "stream",
     "text": [
      "GradientBoostingClassifier(criterion='friedman_mse', init=None,\n",
      "              learning_rate=0.1, loss='deviance', max_depth=3,\n",
      "              max_features=None, max_leaf_nodes=None,\n",
      "              min_impurity_decrease=0.0, min_impurity_split=None,\n",
      "              min_samples_leaf=1, min_samples_split=2,\n",
      "              min_weight_fraction_leaf=0.0, n_estimators=50,\n",
      "              n_iter_no_change=None, presort='auto', random_state=None,\n",
      "              subsample=1.0, tol=0.0001, validation_fraction=0.1,\n",
      "              verbose=0, warm_start=False)\n",
      "Avg. Area Under P-R Curve: 0.803 (+/-0.050)\n",
      "Avg. Precision Score: 0.752 (+/-0.056)\n",
      "-----\n",
      "\n"
     ]
    },
    {
     "data": {
      "image/png": "[encoded data removed]",
      "text/plain": [
       "<Figure size 864x432 with 1 Axes>"
      ]
     },
     "metadata": {
      "needs_background": "light"
     },
     "output_type": "display_data"
    },
    {
     "name": "stdout",
     "output_type": "stream",
     "text": [
      "XGBClassifier(base_score=0.5, booster='gbtree', colsample_bylevel=1,\n",
      "       colsample_bynode=1, colsample_bytree=1, gamma=0, learning_rate=0.1,\n",
      "       max_delta_step=0, max_depth=3, min_child_weight=1, missing=None,\n",
      "       n_estimators=100, n_jobs=1, nthread=None,\n",
      "       objective='binary:logistic', random_state=0, reg_alpha=0,\n",
      "       reg_lambda=1, scale_pos_weight=1, seed=None, silent=None,\n",
      "       subsample=1, verbosity=1)\n",
      "Avg. Area Under P-R Curve: 0.905 (+/-0.056)\n",
      "Avg. Precision Score: 0.906 (+/-0.055)\n",
      "-----\n",
      "\n"
     ]
    }
   ],
   "source": [
    "m.cross_val_precision_recall_auc([rf0, gb0, xgb], xval = X_val, yval = y_val)"
   ]
  },
  {
   "cell_type": "code",
   "execution_count": 26,
   "metadata": {},
   "outputs": [
    {
     "data": {
      "text/plain": [
       "XGBClassifier(base_score=0.5, booster='gbtree', colsample_bylevel=1,\n",
       "       colsample_bynode=1, colsample_bytree=1, gamma=0, learning_rate=0.1,\n",
       "       max_delta_step=0, max_depth=3, min_child_weight=1, missing=None,\n",
       "       n_estimators=100, n_jobs=1, nthread=None,\n",
       "       objective='binary:logistic', random_state=0, reg_alpha=0,\n",
       "       reg_lambda=1, scale_pos_weight=1, seed=None, silent=None,\n",
       "       subsample=1, verbosity=1)"
      ]
     },
     "execution_count": 26,
     "metadata": {},
     "output_type": "execute_result"
    }
   ],
   "source": [
    "# Based on the above, the XGBClassifier had higher and more stable AUC, which means it has high ability to classify each class.\n",
    "# The Random Forest Classifier had the most skill in detecting fraudulent transactions.\n",
    "# We'll go with the XGBC as we want to accurately classify transactions overall.\n",
    "\n",
    "xgb.fit(X_train, y_train)"
   ]
  },
  {
   "cell_type": "code",
   "execution_count": 27,
   "metadata": {},
   "outputs": [],
   "source": [
    "preds = xgb.predict(X_test)"
   ]
  },
  {
   "cell_type": "code",
   "execution_count": 28,
   "metadata": {},
   "outputs": [
    {
     "name": "stdout",
     "output_type": "stream",
     "text": [
      "              precision    recall  f1-score   support\n",
      "\n",
      "           0       1.00      1.00      1.00     56864\n",
      "           1       0.95      0.82      0.88        98\n",
      "\n",
      "   micro avg       1.00      1.00      1.00     56962\n",
      "   macro avg       0.98      0.91      0.94     56962\n",
      "weighted avg       1.00      1.00      1.00     56962\n",
      "\n"
     ]
    }
   ],
   "source": [
    "print(classification_report(y_test, preds))"
   ]
  },
  {
   "cell_type": "code",
   "execution_count": 29,
   "metadata": {
    "scrolled": true
   },
   "outputs": [
    {
     "name": "stdout",
     "output_type": "stream",
     "text": [
      "[[56860     4]\n",
      " [   18    80]]\n"
     ]
    }
   ],
   "source": [
    "print(confusion_matrix(y_test, preds))"
   ]
  },
  {
   "cell_type": "code",
   "execution_count": 30,
   "metadata": {},
   "outputs": [],
   "source": [
    "probas = xgb.predict_proba(X_test)[:,1]"
   ]
  },
  {
   "cell_type": "code",
   "execution_count": 31,
   "metadata": {},
   "outputs": [],
   "source": [
    "from sklearn.metrics import average_precision_score, recall_score, precision_score"
   ]
  },
  {
   "cell_type": "code",
   "execution_count": 32,
   "metadata": {},
   "outputs": [
    {
     "data": {
      "text/plain": [
       "0.8940415940879651"
      ]
     },
     "execution_count": 32,
     "metadata": {},
     "output_type": "execute_result"
    }
   ],
   "source": [
    "average_precision_score(y_test, probas)"
   ]
  },
  {
   "cell_type": "code",
   "execution_count": 33,
   "metadata": {},
   "outputs": [
    {
     "data": {
      "text/plain": [
       "0.8163265306122449"
      ]
     },
     "execution_count": 33,
     "metadata": {},
     "output_type": "execute_result"
    }
   ],
   "source": [
    "recall_score(y_test, preds)"
   ]
  },
  {
   "cell_type": "code",
   "execution_count": 34,
   "metadata": {},
   "outputs": [],
   "source": [
    "thres = m.optimal_cutoff(y_test, probas)[0]"
   ]
  },
  {
   "cell_type": "code",
   "execution_count": 35,
   "metadata": {},
   "outputs": [
    {
     "name": "stdout",
     "output_type": "stream",
     "text": [
      "0.0011709744576364756\n"
     ]
    }
   ],
   "source": [
    "print(thres)"
   ]
  },
  {
   "cell_type": "code",
   "execution_count": 36,
   "metadata": {},
   "outputs": [],
   "source": [
    "preds_thres = [x > thres for x in probas]"
   ]
  },
  {
   "cell_type": "code",
   "execution_count": 37,
   "metadata": {},
   "outputs": [
    {
     "name": "stdout",
     "output_type": "stream",
     "text": [
      "              precision    recall  f1-score   support\n",
      "\n",
      "           0       1.00      0.96      0.98     56864\n",
      "           1       0.04      0.95      0.07        98\n",
      "\n",
      "   micro avg       0.96      0.96      0.96     56962\n",
      "   macro avg       0.52      0.95      0.53     56962\n",
      "weighted avg       1.00      0.96      0.98     56962\n",
      "\n",
      "\n",
      "\n",
      "[[54468  2396]\n",
      " [    5    93]]\n"
     ]
    }
   ],
   "source": [
    "print(classification_report(y_test, preds_thres))\n",
    "print('\\n')\n",
    "print(confusion_matrix(y_test, preds_thres))"
   ]
  },
  {
   "cell_type": "code",
   "execution_count": 45,
   "metadata": {},
   "outputs": [],
   "source": [
    "from xgboost import cv, DMatrix\n",
    "from sklearn.metrics import average_precision_score, make_scorer\n",
    "from skopt import BayesSearchCV\n",
    "\n",
    "avg_prec = make_scorer(average_precision_score, needs_proba=True)"
   ]
  },
  {
   "cell_type": "code",
   "execution_count": 43,
   "metadata": {},
   "outputs": [],
   "source": [
    "xgb_space = {\n",
    "    'max_depth':np.arange(6,20,1),\n",
    "    'min_child_weight':np.arange(3,10,1),\n",
    "    'subsample':[i/10.0 for i in range(6,10)],\n",
    "     'gamma':[i/10.0 for i in range(0,9)],\n",
    "     'colsample_bytree':[i/10.0 for i in range(3,10)]\n",
    "}"
   ]
  },
  {
   "cell_type": "code",
   "execution_count": 44,
   "metadata": {
    "scrolled": false
   },
   "outputs": [
    {
     "name": "stdout",
     "output_type": "stream",
     "text": [
      "Fitting 5 folds for each of 1 candidates, totalling 5 fits\n"
     ]
    },
    {
     "name": "stderr",
     "output_type": "stream",
     "text": [
      "[Parallel(n_jobs=4)]: Using backend LokyBackend with 4 concurrent workers.\n",
      "[Parallel(n_jobs=4)]: Done   5 out of   5 | elapsed:    4.2s finished\n",
      "[Parallel(n_jobs=4)]: Using backend LokyBackend with 4 concurrent workers.\n"
     ]
    },
    {
     "name": "stdout",
     "output_type": "stream",
     "text": [
      "Fitting 5 folds for each of 1 candidates, totalling 5 fits\n"
     ]
    },
    {
     "name": "stderr",
     "output_type": "stream",
     "text": [
      "[Parallel(n_jobs=4)]: Done   5 out of   5 | elapsed:    3.4s finished\n",
      "[Parallel(n_jobs=4)]: Using backend LokyBackend with 4 concurrent workers.\n"
     ]
    },
    {
     "name": "stdout",
     "output_type": "stream",
     "text": [
      "Fitting 5 folds for each of 1 candidates, totalling 5 fits\n"
     ]
    },
    {
     "name": "stderr",
     "output_type": "stream",
     "text": [
      "[Parallel(n_jobs=4)]: Done   5 out of   5 | elapsed:    4.9s finished\n",
      "[Parallel(n_jobs=4)]: Using backend LokyBackend with 4 concurrent workers.\n"
     ]
    },
    {
     "name": "stdout",
     "output_type": "stream",
     "text": [
      "Fitting 5 folds for each of 1 candidates, totalling 5 fits\n"
     ]
    },
    {
     "name": "stderr",
     "output_type": "stream",
     "text": [
      "[Parallel(n_jobs=4)]: Done   5 out of   5 | elapsed:    6.0s finished\n",
      "[Parallel(n_jobs=4)]: Using backend LokyBackend with 4 concurrent workers.\n"
     ]
    },
    {
     "name": "stdout",
     "output_type": "stream",
     "text": [
      "Fitting 5 folds for each of 1 candidates, totalling 5 fits\n"
     ]
    },
    {
     "name": "stderr",
     "output_type": "stream",
     "text": [
      "[Parallel(n_jobs=4)]: Done   5 out of   5 | elapsed:    5.5s finished\n"
     ]
    },
    {
     "data": {
      "text/plain": [
       "(0.8758379587516013,\n",
       " {'colsample_bytree': 0.9,\n",
       "  'gamma': 0.2,\n",
       "  'max_depth': 16,\n",
       "  'min_child_weight': 5,\n",
       "  'subsample': 0.9})"
      ]
     },
     "execution_count": 44,
     "metadata": {},
     "output_type": "execute_result"
    }
   ],
   "source": [
    "xgb_bo1 = BayesSearchCV(estimator=xgb, \n",
    "                        search_spaces=xgb_space,\n",
    "                        scoring=avg_prec,\n",
    "                        n_iter=5,\n",
    "                        cv=5,\n",
    "                       verbose=1,\n",
    "                       n_jobs=4)\n",
    "\n",
    "\n",
    "xgb_bo1.fit(X_val, y_val)\n",
    "xgb_bo1.best_score_, xgb_bo1.best_params_"
   ]
  },
  {
   "cell_type": "code",
   "execution_count": null,
   "metadata": {},
   "outputs": [],
   "source": []
  },
  {
   "cell_type": "code",
   "execution_count": 46,
   "metadata": {},
   "outputs": [
    {
     "data": {
      "text/plain": [
       "XGBClassifier(base_score=0.5, booster='gbtree', colsample_bylevel=1,\n",
       "       colsample_bynode=1, colsample_bytree=0.9, gamma=0.2,\n",
       "       learning_rate=0.1, max_delta_step=0, max_depth=16,\n",
       "       min_child_weight=5, missing=None, n_estimators=100, n_jobs=1,\n",
       "       nthread=None, objective='binary:logistic', random_state=0,\n",
       "       reg_alpha=0, reg_lambda=1, scale_pos_weight=1, seed=None,\n",
       "       silent=None, subsample=0.9, verbosity=1)"
      ]
     },
     "execution_count": 46,
     "metadata": {},
     "output_type": "execute_result"
    }
   ],
   "source": [
    "xgb_bo1.best_estimator_.fit(X_train, y_train)"
   ]
  },
  {
   "cell_type": "code",
   "execution_count": 47,
   "metadata": {},
   "outputs": [],
   "source": [
    "preds_bo1 = xgb_bo1.best_estimator_.predict(X_test)"
   ]
  },
  {
   "cell_type": "code",
   "execution_count": 48,
   "metadata": {
    "scrolled": true
   },
   "outputs": [
    {
     "name": "stdout",
     "output_type": "stream",
     "text": [
      "              precision    recall  f1-score   support\n",
      "\n",
      "           0       1.00      1.00      1.00     56864\n",
      "           1       0.93      0.83      0.88        98\n",
      "\n",
      "   micro avg       1.00      1.00      1.00     56962\n",
      "   macro avg       0.97      0.91      0.94     56962\n",
      "weighted avg       1.00      1.00      1.00     56962\n",
      "\n",
      "\n",
      "\n",
      "[[56858     6]\n",
      " [   17    81]]\n"
     ]
    }
   ],
   "source": [
    "print(classification_report(y_test, preds_bo1))\n",
    "print('\\n')\n",
    "print(confusion_matrix(y_test, preds_bo1))"
   ]
  },
  {
   "cell_type": "code",
   "execution_count": 49,
   "metadata": {},
   "outputs": [],
   "source": [
    "thres_bo1 = m.optimal_cutoff(y_test, xgb_bo1.best_estimator_.predict_proba(X_test)[:,1])[0]"
   ]
  },
  {
   "cell_type": "code",
   "execution_count": 50,
   "metadata": {},
   "outputs": [
    {
     "name": "stdout",
     "output_type": "stream",
     "text": [
      "0.0012087702052667737\n"
     ]
    }
   ],
   "source": [
    "print(thres_bo1)"
   ]
  },
  {
   "cell_type": "code",
   "execution_count": 53,
   "metadata": {},
   "outputs": [],
   "source": [
    "probas_new = xgb_bo1.best_estimator_.predict_proba(X_test)[:,1]"
   ]
  },
  {
   "cell_type": "code",
   "execution_count": 54,
   "metadata": {},
   "outputs": [
    {
     "data": {
      "text/plain": [
       "0.9026267203441003"
      ]
     },
     "execution_count": 54,
     "metadata": {},
     "output_type": "execute_result"
    }
   ],
   "source": [
    "average_precision_score(y_test, probas_new)"
   ]
  },
  {
   "cell_type": "code",
   "execution_count": null,
   "metadata": {},
   "outputs": [],
   "source": []
  },
  {
   "cell_type": "code",
   "execution_count": null,
   "metadata": {},
   "outputs": [],
   "source": []
  }
 ],
 "metadata": {
  "kernelspec": {
   "display_name": "Python 3",
   "language": "python",
   "name": "python3"
  },
  "language_info": {
   "codemirror_mode": {
    "name": "ipython",
    "version": 3
   },
   "file_extension": ".py",
   "mimetype": "text/x-python",
   "name": "python",
   "nbconvert_exporter": "python",
   "pygments_lexer": "ipython3",
   "version": "3.6.8"
  }
 },
 "nbformat": 4,
 "nbformat_minor": 2
}
